{
 "cells": [
  {
   "cell_type": "code",
   "execution_count": 16,
   "id": "462cef93",
   "metadata": {},
   "outputs": [
    {
     "data": {
      "text/html": [
       "<div>\n",
       "<style scoped>\n",
       "    .dataframe tbody tr th:only-of-type {\n",
       "        vertical-align: middle;\n",
       "    }\n",
       "\n",
       "    .dataframe tbody tr th {\n",
       "        vertical-align: top;\n",
       "    }\n",
       "\n",
       "    .dataframe thead th {\n",
       "        text-align: right;\n",
       "    }\n",
       "</style>\n",
       "<table border=\"1\" class=\"dataframe\">\n",
       "  <thead>\n",
       "    <tr style=\"text-align: right;\">\n",
       "      <th></th>\n",
       "      <th>gender</th>\n",
       "      <th>married</th>\n",
       "      <th>ch</th>\n",
       "      <th>income</th>\n",
       "      <th>loanamt</th>\n",
       "      <th>status</th>\n",
       "    </tr>\n",
       "  </thead>\n",
       "  <tbody>\n",
       "    <tr>\n",
       "      <th>0</th>\n",
       "      <td>Male</td>\n",
       "      <td>No</td>\n",
       "      <td>1.0</td>\n",
       "      <td>5849</td>\n",
       "      <td>NaN</td>\n",
       "      <td>Y</td>\n",
       "    </tr>\n",
       "    <tr>\n",
       "      <th>1</th>\n",
       "      <td>Male</td>\n",
       "      <td>Yes</td>\n",
       "      <td>1.0</td>\n",
       "      <td>4583</td>\n",
       "      <td>128.0</td>\n",
       "      <td>N</td>\n",
       "    </tr>\n",
       "    <tr>\n",
       "      <th>2</th>\n",
       "      <td>Male</td>\n",
       "      <td>Yes</td>\n",
       "      <td>1.0</td>\n",
       "      <td>3000</td>\n",
       "      <td>66.0</td>\n",
       "      <td>Y</td>\n",
       "    </tr>\n",
       "    <tr>\n",
       "      <th>3</th>\n",
       "      <td>Male</td>\n",
       "      <td>Yes</td>\n",
       "      <td>1.0</td>\n",
       "      <td>2583</td>\n",
       "      <td>120.0</td>\n",
       "      <td>Y</td>\n",
       "    </tr>\n",
       "    <tr>\n",
       "      <th>4</th>\n",
       "      <td>Male</td>\n",
       "      <td>No</td>\n",
       "      <td>1.0</td>\n",
       "      <td>6000</td>\n",
       "      <td>141.0</td>\n",
       "      <td>Y</td>\n",
       "    </tr>\n",
       "  </tbody>\n",
       "</table>\n",
       "</div>"
      ],
      "text/plain": [
       "  gender married   ch  income  loanamt status\n",
       "0   Male      No  1.0    5849      NaN      Y\n",
       "1   Male     Yes  1.0    4583    128.0      N\n",
       "2   Male     Yes  1.0    3000     66.0      Y\n",
       "3   Male     Yes  1.0    2583    120.0      Y\n",
       "4   Male      No  1.0    6000    141.0      Y"
      ]
     },
     "execution_count": 16,
     "metadata": {},
     "output_type": "execute_result"
    }
   ],
   "source": [
    "import pandas as pd\n",
    "import seaborn as sns\n",
    "import numpy as np\n",
    "\n",
    "\n",
    "# Read the data and Create a copy\n",
    "LoanData = pd.read_csv(\"01Exercise1.csv\")\n",
    "LoanPrep = LoanData.copy()\n",
    "LoanPrep.head()"
   ]
  },
  {
   "cell_type": "code",
   "execution_count": 17,
   "id": "51f4a38b",
   "metadata": {},
   "outputs": [
    {
     "data": {
      "text/plain": [
       "gender     13\n",
       "married     3\n",
       "ch         50\n",
       "income      0\n",
       "loanamt    22\n",
       "status      0\n",
       "dtype: int64"
      ]
     },
     "execution_count": 17,
     "metadata": {},
     "output_type": "execute_result"
    }
   ],
   "source": [
    "# Find out columns with missing values\n",
    "LoanPrep.isnull().sum(axis=0)"
   ]
  },
  {
   "cell_type": "code",
   "execution_count": 18,
   "id": "0a2bf110",
   "metadata": {},
   "outputs": [],
   "source": [
    "# Replace Missing Values. Drop the rows.\n",
    "LoanPrep = LoanPrep.dropna()"
   ]
  },
  {
   "cell_type": "code",
   "execution_count": 19,
   "id": "dd79d675",
   "metadata": {},
   "outputs": [],
   "source": [
    "# Drop irrelevant columns based on business sense\n",
    "LoanPrep = LoanPrep.drop(['gender'], axis=1)"
   ]
  },
  {
   "cell_type": "code",
   "execution_count": 20,
   "id": "3a229ad5",
   "metadata": {},
   "outputs": [],
   "source": [
    "# Create Dummy variables\n",
    "LoanPrep.dtypes\n",
    "LoanPrep = pd.get_dummies(LoanPrep, drop_first=True)"
   ]
  },
  {
   "cell_type": "code",
   "execution_count": 21,
   "id": "fdfbbf48",
   "metadata": {},
   "outputs": [
    {
     "name": "stderr",
     "output_type": "stream",
     "text": [
      "C:\\Users\\prudi\\anaconda3\\envs\\june31_test\\lib\\site-packages\\seaborn\\distributions.py:2619: FutureWarning: `distplot` is a deprecated function and will be removed in a future version. Please adapt your code to use either `displot` (a figure-level function with similar flexibility) or `histplot` (an axes-level function for histograms).\n",
      "  warnings.warn(msg, FutureWarning)\n"
     ]
    },
    {
     "data": {
      "text/plain": [
       "<AxesSubplot:xlabel='income', ylabel='Density'>"
      ]
     },
     "execution_count": 21,
     "metadata": {},
     "output_type": "execute_result"
    },
    {
     "data": {
      "image/png": "[encoded data removed]",
      "text/plain": [
       "<Figure size 432x288 with 1 Axes>"
      ]
     },
     "metadata": {
      "needs_background": "light"
     },
     "output_type": "display_data"
    }
   ],
   "source": [
    "sns.distplot(LoanPrep['income'])"
   ]
  },
  {
   "cell_type": "code",
   "execution_count": 22,
   "id": "fc9edf49",
   "metadata": {},
   "outputs": [],
   "source": [
    "# Normalize the data (Income and Loan Amount) Using StandardScaler\n",
    "from sklearn import preprocessing\n",
    "scalar = preprocessing.StandardScaler()\n",
    "scalar.fit(LoanPrep[['income']])\n",
    "LoanPrep['sc_income'] = scalar.transform(LoanPrep[['income']])"
   ]
  },
  {
   "cell_type": "code",
   "execution_count": 23,
   "id": "6467462b",
   "metadata": {
    "scrolled": true
   },
   "outputs": [
    {
     "name": "stderr",
     "output_type": "stream",
     "text": [
      "C:\\Users\\prudi\\anaconda3\\envs\\june31_test\\lib\\site-packages\\seaborn\\distributions.py:2619: FutureWarning: `distplot` is a deprecated function and will be removed in a future version. Please adapt your code to use either `displot` (a figure-level function with similar flexibility) or `histplot` (an axes-level function for histograms).\n",
      "  warnings.warn(msg, FutureWarning)\n"
     ]
    },
    {
     "data": {
      "text/plain": [
       "<AxesSubplot:xlabel='sc_income', ylabel='Density'>"
      ]
     },
     "execution_count": 23,
     "metadata": {},
     "output_type": "execute_result"
    },
    {
     "data": {
      "image/png": "[encoded data removed]",
      "text/plain": [
       "<Figure size 432x288 with 1 Axes>"
      ]
     },
     "metadata": {
      "needs_background": "light"
     },
     "output_type": "display_data"
    }
   ],
   "source": [
    "sns.distplot(LoanPrep['sc_income'])"
   ]
  },
  {
   "cell_type": "code",
   "execution_count": 24,
   "id": "0a07e98a",
   "metadata": {},
   "outputs": [
    {
     "name": "stderr",
     "output_type": "stream",
     "text": [
      "C:\\Users\\prudi\\anaconda3\\envs\\june31_test\\lib\\site-packages\\seaborn\\distributions.py:2619: FutureWarning: `distplot` is a deprecated function and will be removed in a future version. Please adapt your code to use either `displot` (a figure-level function with similar flexibility) or `histplot` (an axes-level function for histograms).\n",
      "  warnings.warn(msg, FutureWarning)\n"
     ]
    },
    {
     "data": {
      "text/plain": [
       "<AxesSubplot:xlabel='loanamt', ylabel='Density'>"
      ]
     },
     "execution_count": 24,
     "metadata": {},
     "output_type": "execute_result"
    },
    {
     "data": {
      "image/png": "[encoded data removed]",
      "text/plain": [
       "<Figure size 432x288 with 1 Axes>"
      ]
     },
     "metadata": {
      "needs_background": "light"
     },
     "output_type": "display_data"
    }
   ],
   "source": [
    "sns.distplot(LoanPrep['loanamt'])"
   ]
  },
  {
   "cell_type": "code",
   "execution_count": 33,
   "id": "e150e035",
   "metadata": {
    "scrolled": true
   },
   "outputs": [
    {
     "ename": "ValueError",
     "evalue": "Expected 2D array, got 1D array instead:\narray=[128.  66. 120. 141. 267.  95. 158. 168. 349.  70. 109. 200. 114.  17.\n 125.  76. 133. 115. 104. 315. 116. 191. 122. 110.  35. 120.  74. 106.\n 114. 320. 100. 144. 184. 110.  80.  47. 134.  96.  88.  44. 144. 120.\n 144. 100. 120. 112. 134. 286.  97.  96. 135. 180. 144. 120.  99. 165.\n 116. 258. 126. 312. 125. 136. 172.  97.  81.  95. 187. 113. 176. 110.\n 180. 111. 167.  50. 136. 104. 210. 175. 131. 188.  81. 122.  25. 137.\n  50. 115. 131. 133. 151. 100. 225. 120. 216.  94. 136. 139. 152. 118.\n 185. 154. 175. 259. 180.  44. 137.  81. 194. 160.  74.  70.  25. 102.\n 290.  84.  88. 242. 129. 185. 168. 175. 122. 187. 100.  70.  30. 225.\n 125. 118. 152. 244. 113.  50. 600. 187. 120. 255.  98. 275. 121. 158.\n  75. 182. 112. 129.  63. 200.  95.  81. 187.  87. 116. 101. 495. 116.\n 102. 180.  73. 260. 108. 120.  66. 188.  48. 164. 160.  76. 120. 170.\n 187. 120.  83.  90. 166. 135. 124. 120.  80.  55.  59. 127. 214. 128.\n 240. 130. 137. 100. 135. 131.  72.  60. 116. 144. 175. 128. 170. 138.\n 210. 200. 104.  42. 120. 280. 140. 170. 112.  96. 120. 140. 155. 108.\n 123. 120. 112. 137. 123.  90. 201. 138. 104. 279. 192. 255. 115.  94.\n 304. 134. 155. 120. 128. 151. 150. 160. 135.  90.  30. 136. 126. 150.\n  90. 115. 207.  80. 436. 158. 112.  78.  54.  89.  99. 120. 115. 187.\n 139. 127. 134. 143. 172. 110. 200. 135. 151. 113.  93. 105. 132.  96.\n 140. 135. 104. 480.  84. 111.  56. 111. 120. 155. 115. 124. 300. 376.\n 130. 184. 110.  67. 117.  98.  71. 490.  70. 160. 176.  71. 173.  46.\n 158.  74. 125. 160. 152. 126. 187. 228. 308.  95. 105. 130. 116. 165.\n  67. 100. 200.  81. 236. 130. 141. 133.  96. 124. 175. 570.  55. 155.\n 380. 111. 110. 120. 130.  71. 130. 128. 296. 156. 128. 100. 113. 132.\n 136. 125. 185. 275. 113. 113.  71.  95. 109. 103.  45.  65. 103.  53.\n 194. 115. 115.  66. 152. 360.  62. 218. 110. 178.  60. 160. 239. 112.\n 138. 138.  80. 100. 110.  96. 121.  81. 133.  87.  60. 150. 105. 405.\n 143. 100.  50. 187. 138. 187. 180. 148. 152. 130. 110.  55. 150. 125.\n 149.  90.  84.  96. 118. 173. 136. 160. 128. 153. 132.  98. 140.  70.\n  98. 110. 162. 113. 100. 162. 150. 230.  86. 154. 113. 128. 234. 246.\n 131.  80. 500. 160.  75. 110. 225. 119. 105. 107.  95. 209. 113. 100.\n 208. 124. 243. 188.  40. 100. 250. 148.  70. 311. 150. 113. 123. 185.\n  95.  45.  55. 100. 480. 400. 110. 161.  94. 130. 100. 110. 125. 126.\n 324. 107.  66. 157. 140.  99.  95. 128. 155.  80. 145. 103. 110. 158.\n 181. 132.  26. 260. 162. 182. 108. 600. 211. 132. 258.  70. 123.   9.\n 104. 186. 165. 275. 187. 150. 108. 110. 107. 161. 205.  90.  36. 146.\n 172. 104.  70. 106.  56. 205. 142. 260. 110. 187.  88. 180. 192. 155.\n 128. 172. 496. 173. 157. 108.  71.  40. 253. 187. 133.].\nReshape your data either using array.reshape(-1, 1) if your data has a single feature or array.reshape(1, -1) if it contains a single sample.",
     "output_type": "error",
     "traceback": [
      "\u001b[1;31m---------------------------------------------------------------------------\u001b[0m",
      "\u001b[1;31mValueError\u001b[0m                                Traceback (most recent call last)",
      "\u001b[1;32m<ipython-input-33-330f88c0fd7a>\u001b[0m in \u001b[0;36m<module>\u001b[1;34m\u001b[0m\n\u001b[0;32m      2\u001b[0m \u001b[0mminmax_lnamount\u001b[0m\u001b[1;33m=\u001b[0m\u001b[0mMinMaxScaler\u001b[0m\u001b[1;33m(\u001b[0m\u001b[1;33m)\u001b[0m\u001b[1;33m\u001b[0m\u001b[1;33m\u001b[0m\u001b[0m\n\u001b[0;32m      3\u001b[0m \u001b[0mminmax_lnamount\u001b[0m\u001b[1;33m.\u001b[0m\u001b[0mfit\u001b[0m\u001b[1;33m(\u001b[0m\u001b[0mnp\u001b[0m\u001b[1;33m.\u001b[0m\u001b[0marray\u001b[0m\u001b[1;33m(\u001b[0m\u001b[0mLoanPrep\u001b[0m\u001b[1;33m[\u001b[0m\u001b[1;34m'loanamt'\u001b[0m\u001b[1;33m]\u001b[0m\u001b[1;33m)\u001b[0m\u001b[1;33m.\u001b[0m\u001b[0mreshape\u001b[0m\u001b[1;33m(\u001b[0m\u001b[1;36m1\u001b[0m\u001b[1;33m,\u001b[0m \u001b[1;33m-\u001b[0m\u001b[1;36m1\u001b[0m\u001b[1;33m)\u001b[0m\u001b[1;33m)\u001b[0m\u001b[1;33m\u001b[0m\u001b[1;33m\u001b[0m\u001b[0m\n\u001b[1;32m----> 4\u001b[1;33m \u001b[0mLoanPrep\u001b[0m\u001b[1;33m[\u001b[0m\u001b[1;34m'minmax_loanamt'\u001b[0m\u001b[1;33m]\u001b[0m\u001b[1;33m=\u001b[0m\u001b[0mminmax_lnamount\u001b[0m\u001b[1;33m.\u001b[0m\u001b[0mtransform\u001b[0m\u001b[1;33m(\u001b[0m\u001b[0mLoanPrep\u001b[0m\u001b[1;33m[\u001b[0m\u001b[1;34m'loanamt'\u001b[0m\u001b[1;33m]\u001b[0m\u001b[1;33m)\u001b[0m\u001b[1;33m\u001b[0m\u001b[1;33m\u001b[0m\u001b[0m\n\u001b[0m",
      "\u001b[1;32m~\\anaconda3\\envs\\june31_test\\lib\\site-packages\\sklearn\\preprocessing\\_data.py\u001b[0m in \u001b[0;36mtransform\u001b[1;34m(self, X)\u001b[0m\n\u001b[0;32m    433\u001b[0m \u001b[1;33m\u001b[0m\u001b[0m\n\u001b[0;32m    434\u001b[0m         X = self._validate_data(X, copy=self.copy, dtype=FLOAT_DTYPES,\n\u001b[1;32m--> 435\u001b[1;33m                                 force_all_finite=\"allow-nan\", reset=False)\n\u001b[0m\u001b[0;32m    436\u001b[0m \u001b[1;33m\u001b[0m\u001b[0m\n\u001b[0;32m    437\u001b[0m         \u001b[0mX\u001b[0m \u001b[1;33m*=\u001b[0m \u001b[0mself\u001b[0m\u001b[1;33m.\u001b[0m\u001b[0mscale_\u001b[0m\u001b[1;33m\u001b[0m\u001b[1;33m\u001b[0m\u001b[0m\n",
      "\u001b[1;32m~\\anaconda3\\envs\\june31_test\\lib\\site-packages\\sklearn\\base.py\u001b[0m in \u001b[0;36m_validate_data\u001b[1;34m(self, X, y, reset, validate_separately, **check_params)\u001b[0m\n\u001b[0;32m    419\u001b[0m             \u001b[0mout\u001b[0m \u001b[1;33m=\u001b[0m \u001b[0mX\u001b[0m\u001b[1;33m\u001b[0m\u001b[1;33m\u001b[0m\u001b[0m\n\u001b[0;32m    420\u001b[0m         \u001b[1;32melif\u001b[0m \u001b[0misinstance\u001b[0m\u001b[1;33m(\u001b[0m\u001b[0my\u001b[0m\u001b[1;33m,\u001b[0m \u001b[0mstr\u001b[0m\u001b[1;33m)\u001b[0m \u001b[1;32mand\u001b[0m \u001b[0my\u001b[0m \u001b[1;33m==\u001b[0m \u001b[1;34m'no_validation'\u001b[0m\u001b[1;33m:\u001b[0m\u001b[1;33m\u001b[0m\u001b[1;33m\u001b[0m\u001b[0m\n\u001b[1;32m--> 421\u001b[1;33m             \u001b[0mX\u001b[0m \u001b[1;33m=\u001b[0m \u001b[0mcheck_array\u001b[0m\u001b[1;33m(\u001b[0m\u001b[0mX\u001b[0m\u001b[1;33m,\u001b[0m \u001b[1;33m**\u001b[0m\u001b[0mcheck_params\u001b[0m\u001b[1;33m)\u001b[0m\u001b[1;33m\u001b[0m\u001b[1;33m\u001b[0m\u001b[0m\n\u001b[0m\u001b[0;32m    422\u001b[0m             \u001b[0mout\u001b[0m \u001b[1;33m=\u001b[0m \u001b[0mX\u001b[0m\u001b[1;33m\u001b[0m\u001b[1;33m\u001b[0m\u001b[0m\n\u001b[0;32m    423\u001b[0m         \u001b[1;32melse\u001b[0m\u001b[1;33m:\u001b[0m\u001b[1;33m\u001b[0m\u001b[1;33m\u001b[0m\u001b[0m\n",
      "\u001b[1;32m~\\anaconda3\\envs\\june31_test\\lib\\site-packages\\sklearn\\utils\\validation.py\u001b[0m in \u001b[0;36minner_f\u001b[1;34m(*args, **kwargs)\u001b[0m\n\u001b[0;32m     61\u001b[0m             \u001b[0mextra_args\u001b[0m \u001b[1;33m=\u001b[0m \u001b[0mlen\u001b[0m\u001b[1;33m(\u001b[0m\u001b[0margs\u001b[0m\u001b[1;33m)\u001b[0m \u001b[1;33m-\u001b[0m \u001b[0mlen\u001b[0m\u001b[1;33m(\u001b[0m\u001b[0mall_args\u001b[0m\u001b[1;33m)\u001b[0m\u001b[1;33m\u001b[0m\u001b[1;33m\u001b[0m\u001b[0m\n\u001b[0;32m     62\u001b[0m             \u001b[1;32mif\u001b[0m \u001b[0mextra_args\u001b[0m \u001b[1;33m<=\u001b[0m \u001b[1;36m0\u001b[0m\u001b[1;33m:\u001b[0m\u001b[1;33m\u001b[0m\u001b[1;33m\u001b[0m\u001b[0m\n\u001b[1;32m---> 63\u001b[1;33m                 \u001b[1;32mreturn\u001b[0m \u001b[0mf\u001b[0m\u001b[1;33m(\u001b[0m\u001b[1;33m*\u001b[0m\u001b[0margs\u001b[0m\u001b[1;33m,\u001b[0m \u001b[1;33m**\u001b[0m\u001b[0mkwargs\u001b[0m\u001b[1;33m)\u001b[0m\u001b[1;33m\u001b[0m\u001b[1;33m\u001b[0m\u001b[0m\n\u001b[0m\u001b[0;32m     64\u001b[0m \u001b[1;33m\u001b[0m\u001b[0m\n\u001b[0;32m     65\u001b[0m             \u001b[1;31m# extra_args > 0\u001b[0m\u001b[1;33m\u001b[0m\u001b[1;33m\u001b[0m\u001b[1;33m\u001b[0m\u001b[0m\n",
      "\u001b[1;32m~\\anaconda3\\envs\\june31_test\\lib\\site-packages\\sklearn\\utils\\validation.py\u001b[0m in \u001b[0;36mcheck_array\u001b[1;34m(array, accept_sparse, accept_large_sparse, dtype, order, copy, force_all_finite, ensure_2d, allow_nd, ensure_min_samples, ensure_min_features, estimator)\u001b[0m\n\u001b[0;32m    696\u001b[0m                     \u001b[1;34m\"Reshape your data either using array.reshape(-1, 1) if \"\u001b[0m\u001b[1;33m\u001b[0m\u001b[1;33m\u001b[0m\u001b[0m\n\u001b[0;32m    697\u001b[0m                     \u001b[1;34m\"your data has a single feature or array.reshape(1, -1) \"\u001b[0m\u001b[1;33m\u001b[0m\u001b[1;33m\u001b[0m\u001b[0m\n\u001b[1;32m--> 698\u001b[1;33m                     \"if it contains a single sample.\".format(array))\n\u001b[0m\u001b[0;32m    699\u001b[0m \u001b[1;33m\u001b[0m\u001b[0m\n\u001b[0;32m    700\u001b[0m         \u001b[1;31m# make sure we actually converted to numeric:\u001b[0m\u001b[1;33m\u001b[0m\u001b[1;33m\u001b[0m\u001b[1;33m\u001b[0m\u001b[0m\n",
      "\u001b[1;31mValueError\u001b[0m: Expected 2D array, got 1D array instead:\narray=[128.  66. 120. 141. 267.  95. 158. 168. 349.  70. 109. 200. 114.  17.\n 125.  76. 133. 115. 104. 315. 116. 191. 122. 110.  35. 120.  74. 106.\n 114. 320. 100. 144. 184. 110.  80.  47. 134.  96.  88.  44. 144. 120.\n 144. 100. 120. 112. 134. 286.  97.  96. 135. 180. 144. 120.  99. 165.\n 116. 258. 126. 312. 125. 136. 172.  97.  81.  95. 187. 113. 176. 110.\n 180. 111. 167.  50. 136. 104. 210. 175. 131. 188.  81. 122.  25. 137.\n  50. 115. 131. 133. 151. 100. 225. 120. 216.  94. 136. 139. 152. 118.\n 185. 154. 175. 259. 180.  44. 137.  81. 194. 160.  74.  70.  25. 102.\n 290.  84.  88. 242. 129. 185. 168. 175. 122. 187. 100.  70.  30. 225.\n 125. 118. 152. 244. 113.  50. 600. 187. 120. 255.  98. 275. 121. 158.\n  75. 182. 112. 129.  63. 200.  95.  81. 187.  87. 116. 101. 495. 116.\n 102. 180.  73. 260. 108. 120.  66. 188.  48. 164. 160.  76. 120. 170.\n 187. 120.  83.  90. 166. 135. 124. 120.  80.  55.  59. 127. 214. 128.\n 240. 130. 137. 100. 135. 131.  72.  60. 116. 144. 175. 128. 170. 138.\n 210. 200. 104.  42. 120. 280. 140. 170. 112.  96. 120. 140. 155. 108.\n 123. 120. 112. 137. 123.  90. 201. 138. 104. 279. 192. 255. 115.  94.\n 304. 134. 155. 120. 128. 151. 150. 160. 135.  90.  30. 136. 126. 150.\n  90. 115. 207.  80. 436. 158. 112.  78.  54.  89.  99. 120. 115. 187.\n 139. 127. 134. 143. 172. 110. 200. 135. 151. 113.  93. 105. 132.  96.\n 140. 135. 104. 480.  84. 111.  56. 111. 120. 155. 115. 124. 300. 376.\n 130. 184. 110.  67. 117.  98.  71. 490.  70. 160. 176.  71. 173.  46.\n 158.  74. 125. 160. 152. 126. 187. 228. 308.  95. 105. 130. 116. 165.\n  67. 100. 200.  81. 236. 130. 141. 133.  96. 124. 175. 570.  55. 155.\n 380. 111. 110. 120. 130.  71. 130. 128. 296. 156. 128. 100. 113. 132.\n 136. 125. 185. 275. 113. 113.  71.  95. 109. 103.  45.  65. 103.  53.\n 194. 115. 115.  66. 152. 360.  62. 218. 110. 178.  60. 160. 239. 112.\n 138. 138.  80. 100. 110.  96. 121.  81. 133.  87.  60. 150. 105. 405.\n 143. 100.  50. 187. 138. 187. 180. 148. 152. 130. 110.  55. 150. 125.\n 149.  90.  84.  96. 118. 173. 136. 160. 128. 153. 132.  98. 140.  70.\n  98. 110. 162. 113. 100. 162. 150. 230.  86. 154. 113. 128. 234. 246.\n 131.  80. 500. 160.  75. 110. 225. 119. 105. 107.  95. 209. 113. 100.\n 208. 124. 243. 188.  40. 100. 250. 148.  70. 311. 150. 113. 123. 185.\n  95.  45.  55. 100. 480. 400. 110. 161.  94. 130. 100. 110. 125. 126.\n 324. 107.  66. 157. 140.  99.  95. 128. 155.  80. 145. 103. 110. 158.\n 181. 132.  26. 260. 162. 182. 108. 600. 211. 132. 258.  70. 123.   9.\n 104. 186. 165. 275. 187. 150. 108. 110. 107. 161. 205.  90.  36. 146.\n 172. 104.  70. 106.  56. 205. 142. 260. 110. 187.  88. 180. 192. 155.\n 128. 172. 496. 173. 157. 108.  71.  40. 253. 187. 133.].\nReshape your data either using array.reshape(-1, 1) if your data has a single feature or array.reshape(1, -1) if it contains a single sample."
     ]
    }
   ],
   "source": [
    "from sklearn.preprocessing import MinMaxScaler\n",
    "minmax_lnamount=MinMaxScaler()\n",
    "minmax_lnamount.fit(np.array(LoanPrep['loanamt']).reshape(1, -1))\n",
    "LoanPrep['minmax_loanamt']=minmax_lnamount.transform(LoanPrep['loanamt'])"
   ]
  },
  {
   "cell_type": "code",
   "execution_count": null,
   "id": "fe5b5341",
   "metadata": {},
   "outputs": [],
   "source": [
    "sns.distplot(LoanPrep['minmax_loanamt'])"
   ]
  },
  {
   "cell_type": "code",
   "execution_count": 26,
   "id": "649b0485",
   "metadata": {},
   "outputs": [],
   "source": [
    "#LoanPrep['income'] = scalar_.fit_transform(LoanPrep[['income']])\n",
    "#LoanPrep['loanamt'] = scalar_.fit_transform(LoanPrep[['loanamt']])"
   ]
  },
  {
   "cell_type": "code",
   "execution_count": 27,
   "id": "07935b8f",
   "metadata": {},
   "outputs": [],
   "source": [
    "# Create the X (Independent) and Y (Dependent) dataframes\n",
    "# -------------------------------------------------------\n",
    "Y = LoanPrep[['status_Y']]\n",
    "X = LoanPrep.drop(['status_Y'], axis=1)"
   ]
  },
  {
   "cell_type": "code",
   "execution_count": 9,
   "id": "87302b7d",
   "metadata": {},
   "outputs": [],
   "source": [
    "# Split the X and Y dataset into training and testing set\n",
    "from sklearn.model_selection import train_test_split\n",
    "X_train, X_test, Y_train, Y_test = train_test_split(X, Y, test_size = 0.3, random_state = 1234, stratify=Y)"
   ]
  },
  {
   "cell_type": "code",
   "execution_count": 10,
   "id": "ee281fb1",
   "metadata": {},
   "outputs": [],
   "source": [
    "# Build the Logistic Regression model\n",
    "from sklearn.linear_model import LogisticRegression\n",
    "lr = LogisticRegression()"
   ]
  },
  {
   "cell_type": "code",
   "execution_count": 11,
   "id": "82f08260",
   "metadata": {},
   "outputs": [
    {
     "name": "stderr",
     "output_type": "stream",
     "text": [
      "C:\\Users\\prudi\\anaconda3\\envs\\june31_test\\lib\\site-packages\\sklearn\\utils\\validation.py:63: DataConversionWarning: A column-vector y was passed when a 1d array was expected. Please change the shape of y to (n_samples, ), for example using ravel().\n",
      "  return f(*args, **kwargs)\n"
     ]
    },
    {
     "data": {
      "text/plain": [
       "LogisticRegression()"
      ]
     },
     "execution_count": 11,
     "metadata": {},
     "output_type": "execute_result"
    }
   ],
   "source": [
    "lr.fit(X_train, Y_train)"
   ]
  },
  {
   "cell_type": "code",
   "execution_count": 15,
   "id": "47257b80",
   "metadata": {},
   "outputs": [
    {
     "data": {
      "text/plain": [
       "(159, 4)"
      ]
     },
     "execution_count": 15,
     "metadata": {},
     "output_type": "execute_result"
    }
   ],
   "source": [
    "X_test.shape"
   ]
  },
  {
   "cell_type": "code",
   "execution_count": 16,
   "id": "cc6efbc3",
   "metadata": {},
   "outputs": [
    {
     "data": {
      "text/plain": [
       "array([0, 0, 1, 1, 1, 0, 1, 1, 0, 1, 1, 0, 1, 0, 0, 1, 1, 1, 1, 0, 1, 1,\n",
       "       1, 1, 1, 1, 1, 1, 1, 1, 0, 0, 1, 1, 1, 0, 1, 1, 0, 1, 1, 1, 1, 1,\n",
       "       0, 0, 1, 1, 1, 1, 0, 1, 0, 1, 1, 0, 1, 1, 1, 1, 1, 1, 1, 1, 1, 1,\n",
       "       1, 1, 1, 1, 1, 1, 1, 1, 1, 1, 1, 1, 1, 1, 0, 1, 1, 1, 1, 1, 1, 0,\n",
       "       1, 1, 1, 0, 0, 1, 1, 1, 1, 1, 1, 1, 0, 1, 0, 1, 1, 1, 1, 1, 1, 1,\n",
       "       1, 1, 1, 0, 1, 1, 0, 1, 1, 1, 1, 1, 1, 1, 1, 1, 0, 1, 1, 0, 1, 1,\n",
       "       1, 0, 0, 1, 1, 1, 1, 1, 1, 1, 1, 1, 1, 1, 0, 1, 1, 1, 1, 0, 1, 1,\n",
       "       1, 1, 1, 1, 1], dtype=uint8)"
      ]
     },
     "execution_count": 16,
     "metadata": {},
     "output_type": "execute_result"
    }
   ],
   "source": [
    "# Predict the outcome using Test data\n",
    "Y_predict = lr.predict(X_test)\n",
    "Y_predict"
   ]
  },
  {
   "cell_type": "code",
   "execution_count": 13,
   "id": "7def1399",
   "metadata": {},
   "outputs": [],
   "source": [
    "# Build the conufsion matrix and get the accuracy/score\n",
    "from sklearn.metrics import confusion_matrix\n",
    "cm = confusion_matrix(Y_test, Y_predict)\n",
    "\n",
    "score = lr.score(X_test, Y_test)"
   ]
  },
  {
   "cell_type": "code",
   "execution_count": 27,
   "id": "0776953b",
   "metadata": {},
   "outputs": [
    {
     "data": {
      "text/plain": [
       "0.8616352201257862"
      ]
     },
     "execution_count": 27,
     "metadata": {},
     "output_type": "execute_result"
    }
   ],
   "source": [
    "score"
   ]
  }
 ],
 "metadata": {
  "kernelspec": {
   "display_name": "Python 3",
   "language": "python",
   "name": "python3"
  },
  "language_info": {
   "codemirror_mode": {
    "name": "ipython",
    "version": 3
   },
   "file_extension": ".py",
   "mimetype": "text/x-python",
   "name": "python",
   "nbconvert_exporter": "python",
   "pygments_lexer": "ipython3",
   "version": "3.6.13"
  }
 },
 "nbformat": 4,
 "nbformat_minor": 5
}
